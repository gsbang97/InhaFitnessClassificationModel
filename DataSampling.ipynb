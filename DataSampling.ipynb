{
 "cells": [
  {
   "cell_type": "code",
   "execution_count": 1,
   "metadata": {},
   "outputs": [
    {
     "name": "stdout",
     "output_type": "stream",
     "text": [
      "Collecting mediapipe\n",
      "  Downloading mediapipe-0.10.3-cp311-cp311-macosx_11_0_universal2.whl (53.5 MB)\n",
      "\u001b[2K     \u001b[90m━━━━━━━━━━━━━━━━━━━━━━━━━━━━━━━━━━━━━━━━\u001b[0m \u001b[32m53.5/53.5 MB\u001b[0m \u001b[31m11.0 MB/s\u001b[0m eta \u001b[36m0:00:00\u001b[0m00:01\u001b[0m00:01\u001b[0m\n",
      "\u001b[?25hCollecting opencv-python\n",
      "  Using cached opencv_python-4.8.0.76-cp37-abi3-macosx_11_0_arm64.whl (33.1 MB)\n",
      "Requirement already satisfied: absl-py in /Users/bang-giseung/miniconda3/lib/python3.11/site-packages (from mediapipe) (1.4.0)\n",
      "Requirement already satisfied: attrs>=19.1.0 in /Users/bang-giseung/miniconda3/lib/python3.11/site-packages (from mediapipe) (23.1.0)\n",
      "Requirement already satisfied: flatbuffers>=2.0 in /Users/bang-giseung/miniconda3/lib/python3.11/site-packages (from mediapipe) (23.5.26)\n",
      "Requirement already satisfied: matplotlib in /Users/bang-giseung/miniconda3/lib/python3.11/site-packages (from mediapipe) (3.7.2)\n",
      "Requirement already satisfied: numpy in /Users/bang-giseung/miniconda3/lib/python3.11/site-packages (from mediapipe) (1.24.3)\n",
      "Collecting opencv-contrib-python (from mediapipe)\n",
      "  Downloading opencv_contrib_python-4.8.0.76-cp37-abi3-macosx_11_0_arm64.whl (41.4 MB)\n",
      "\u001b[2K     \u001b[90m━━━━━━━━━━━━━━━━━━━━━━━━━━━━━━━━━━━━━━━━\u001b[0m \u001b[32m41.4/41.4 MB\u001b[0m \u001b[31m12.1 MB/s\u001b[0m eta \u001b[36m0:00:00\u001b[0m00:01\u001b[0m00:01\u001b[0m\n",
      "\u001b[?25hCollecting protobuf<4,>=3.11 (from mediapipe)\n",
      "  Using cached protobuf-3.20.3-py2.py3-none-any.whl (162 kB)\n",
      "Collecting sounddevice>=0.4.4 (from mediapipe)\n",
      "  Using cached sounddevice-0.4.6-py3-none-macosx_10_6_x86_64.macosx_10_6_universal2.whl (107 kB)\n",
      "Requirement already satisfied: CFFI>=1.0 in /Users/bang-giseung/miniconda3/lib/python3.11/site-packages (from sounddevice>=0.4.4->mediapipe) (1.15.1)\n",
      "Requirement already satisfied: contourpy>=1.0.1 in /Users/bang-giseung/miniconda3/lib/python3.11/site-packages (from matplotlib->mediapipe) (1.1.0)\n",
      "Requirement already satisfied: cycler>=0.10 in /Users/bang-giseung/miniconda3/lib/python3.11/site-packages (from matplotlib->mediapipe) (0.11.0)\n",
      "Requirement already satisfied: fonttools>=4.22.0 in /Users/bang-giseung/miniconda3/lib/python3.11/site-packages (from matplotlib->mediapipe) (4.41.0)\n",
      "Requirement already satisfied: kiwisolver>=1.0.1 in /Users/bang-giseung/miniconda3/lib/python3.11/site-packages (from matplotlib->mediapipe) (1.4.4)\n",
      "Requirement already satisfied: packaging>=20.0 in /Users/bang-giseung/miniconda3/lib/python3.11/site-packages (from matplotlib->mediapipe) (23.0)\n",
      "Requirement already satisfied: pillow>=6.2.0 in /Users/bang-giseung/miniconda3/lib/python3.11/site-packages (from matplotlib->mediapipe) (10.0.0)\n",
      "Requirement already satisfied: pyparsing<3.1,>=2.3.1 in /Users/bang-giseung/miniconda3/lib/python3.11/site-packages (from matplotlib->mediapipe) (3.0.9)\n",
      "Requirement already satisfied: python-dateutil>=2.7 in /Users/bang-giseung/miniconda3/lib/python3.11/site-packages (from matplotlib->mediapipe) (2.8.2)\n",
      "Requirement already satisfied: pycparser in /Users/bang-giseung/miniconda3/lib/python3.11/site-packages (from CFFI>=1.0->sounddevice>=0.4.4->mediapipe) (2.21)\n",
      "Requirement already satisfied: six>=1.5 in /Users/bang-giseung/miniconda3/lib/python3.11/site-packages (from python-dateutil>=2.7->matplotlib->mediapipe) (1.16.0)\n",
      "Installing collected packages: protobuf, opencv-python, opencv-contrib-python, sounddevice, mediapipe\n",
      "  Attempting uninstall: protobuf\n",
      "    Found existing installation: protobuf 4.23.4\n",
      "    Uninstalling protobuf-4.23.4:\n",
      "      Successfully uninstalled protobuf-4.23.4\n",
      "Successfully installed mediapipe-0.10.3 opencv-contrib-python-4.8.0.76 opencv-python-4.8.0.76 protobuf-3.20.3 sounddevice-0.4.6\n"
     ]
    }
   ],
   "source": [
    "%pip install mediapipe opencv-python"
   ]
  },
  {
   "cell_type": "code",
   "execution_count": 6,
   "metadata": {},
   "outputs": [],
   "source": [
    "import cv2\n",
    "\n",
    "# 입력 및 출력 경로 설정\n",
    "# video_path = './rawVideo/Lunge01.MOV'\n",
    "video_paths = [f\"./rawVideo/Pullup{i}.mp4\" for i in range(9)]\n",
    "output_path = './subVideos/'\n",
    "# name = \"Lunge\"\n",
    "name = \"Pullup\"\n",
    "segment = 0\n",
    "for video_path in video_paths:\n",
    "    # 비디오 캡처 객체 초기화\n",
    "    cap = cv2.VideoCapture(video_path)\n",
    "\n",
    "    # 비디오의 FPS 및 기본 설정 얻기\n",
    "    fps = int(cap.get(cv2.CAP_PROP_FPS))\n",
    "    width  = int(cap.get(cv2.CAP_PROP_FRAME_WIDTH))\n",
    "    height = int(cap.get(cv2.CAP_PROP_FRAME_HEIGHT))\n",
    "\n",
    "    # 3초 간격으로 프레임 번호 설정\n",
    "    frame_gap = 3 * fps\n",
    "\n",
    "    # 비디오 쓰기 객체 설정\n",
    "    # XVID 코덱 사용 (AVI 파일)\n",
    "    fourcc = cv2.VideoWriter_fourcc(*'XVID')\n",
    "\n",
    "    # 비디오 분할 및 저장\n",
    "    while True:\n",
    "        # 현재 세그먼트에 대한 비디오 쓰기 객체 초기화\n",
    "        out = cv2.VideoWriter(f\"{output_path}{name}{segment}.avi\", fourcc, fps, (width, height))\n",
    "        for i in range(frame_gap):\n",
    "            ret, frame = cap.read()\n",
    "            if not ret:\n",
    "                break\n",
    "            out.write(frame)\n",
    "        else:\n",
    "            segment += 1\n",
    "            out.release()\n",
    "            continue\n",
    "        out.release()\n",
    "        break\n",
    "\n",
    "    # 비디오 캡처 객체 해제\n",
    "    cap.release()"
   ]
  }
 ],
 "metadata": {
  "kernelspec": {
   "display_name": "Python 3",
   "language": "python",
   "name": "python3"
  },
  "language_info": {
   "codemirror_mode": {
    "name": "ipython",
    "version": 3
   },
   "file_extension": ".py",
   "mimetype": "text/x-python",
   "name": "python",
   "nbconvert_exporter": "python",
   "pygments_lexer": "ipython3",
   "version": "3.11.4"
  },
  "orig_nbformat": 4
 },
 "nbformat": 4,
 "nbformat_minor": 2
}
